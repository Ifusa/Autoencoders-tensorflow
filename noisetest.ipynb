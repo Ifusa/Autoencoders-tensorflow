{
  "nbformat": 4,
  "nbformat_minor": 0,
  "metadata": {
    "accelerator": "GPU",
    "colab": {
      "name": "noisetest.ipynb",
      "provenance": [],
      "authorship_tag": "ABX9TyM9jyGzEewMwRk9evYc2aKC",
      "include_colab_link": true
    },
    "kernelspec": {
      "display_name": "Python 3",
      "name": "python3"
    },
    "language_info": {
      "name": "python"
    }
  },
  "cells": [
    {
      "cell_type": "markdown",
      "metadata": {
        "id": "view-in-github",
        "colab_type": "text"
      },
      "source": [
        "<a href=\"https://colab.research.google.com/github/Ifusa/Autoencoders-tensorflow/blob/main/noisetest.ipynb\" target=\"_parent\"><img src=\"https://colab.research.google.com/assets/colab-badge.svg\" alt=\"Open In Colab\"/></a>"
      ]
    },
    {
      "cell_type": "code",
      "metadata": {
        "id": "qNB2NrVWeMBI"
      },
      "source": [
        "import tensorflow as tf\n",
        "from matplotlib import pyplot as plt\n",
        "from tensorflow.keras.datasets import mnist\n",
        "import numpy as np"
      ],
      "execution_count": 123,
      "outputs": []
    },
    {
      "cell_type": "code",
      "metadata": {
        "id": "uER4AS8peZJv"
      },
      "source": [
        "(x_train,_),(x_test, _) = mnist.load_data()"
      ],
      "execution_count": 99,
      "outputs": []
    },
    {
      "cell_type": "code",
      "metadata": {
        "colab": {
          "base_uri": "https://localhost:8080/"
        },
        "id": "ey1tr7KNe5na",
        "outputId": "1fed1d56-7680-45bb-d0ef-a946807848c7"
      },
      "source": [
        "print(x_train.shape)\n",
        "print(x_test.shape)"
      ],
      "execution_count": 100,
      "outputs": [
        {
          "output_type": "stream",
          "text": [
            "(60000, 28, 28)\n",
            "(10000, 28, 28)\n"
          ],
          "name": "stdout"
        }
      ]
    },
    {
      "cell_type": "code",
      "metadata": {
        "id": "ZknROD-pwd4i"
      },
      "source": [
        "def noise(array):\n",
        "    \"\"\"\n",
        "    Adds random noise to each image in the supplied array.\n",
        "    \"\"\"\n",
        "\n",
        "    noise_factor = 0.4\n",
        "    noisy_array = array + noise_factor * np.random.normal(\n",
        "        loc=0.0, scale=1.0, size=array.shape\n",
        "    )\n",
        "\n",
        "    return np.clip(noisy_array, 0.0, 1.0)"
      ],
      "execution_count": 121,
      "outputs": []
    },
    {
      "cell_type": "code",
      "metadata": {
        "id": "CKS_-8lEwu0s"
      },
      "source": [
        "noisy_test = noise(x_test)\n",
        "noisy_train = noise(x_train)"
      ],
      "execution_count": 130,
      "outputs": []
    },
    {
      "cell_type": "code",
      "metadata": {
        "id": "WbvglJCAkbb-"
      },
      "source": [
        "#defining callback class. Will stop training when loss becomes less or equal to 0.0045\n",
        "class mycallback(tf.keras.callbacks.Callback):\n",
        "  def on_epoch_end(self, epoch, logs={}):\n",
        "    if (logs.get('loss') <= 0.06):\n",
        "      print(\"\\nReached desired loss, Terminating training....\\n\")\n",
        "      self.model.stop_training = True\n",
        "\n",
        "callbacks = mycallback()"
      ],
      "execution_count": 127,
      "outputs": []
    },
    {
      "cell_type": "code",
      "metadata": {
        "id": "AtLLm7qofkHT"
      },
      "source": [
        "plt.imshow(x_train[0], cmap='gray')\n",
        "plt.show()"
      ],
      "execution_count": null,
      "outputs": []
    },
    {
      "cell_type": "code",
      "metadata": {
        "colab": {
          "base_uri": "https://localhost:8080/"
        },
        "id": "_h7lVekkjCDK",
        "outputId": "7761dd40-dfb0-4c54-e1c9-d4e91f07267e"
      },
      "source": [
        "x_train = x_train.reshape(x_train.shape[0], 28, 28, 1)\n",
        "x_test = x_test.reshape(x_test.shape[0], 28, 28, 1)\n",
        "x_train = x_train/255.0\n",
        "x_test = x_test/255.0\n",
        "print(x_train.shape)\n",
        "print(x_test.shape)"
      ],
      "execution_count": 103,
      "outputs": [
        {
          "output_type": "stream",
          "text": [
            "(60000, 28, 28, 1)\n",
            "(10000, 28, 28, 1)\n"
          ],
          "name": "stdout"
        }
      ]
    },
    {
      "cell_type": "code",
      "metadata": {
        "colab": {
          "base_uri": "https://localhost:8080/"
        },
        "id": "hjie5enBjTBE",
        "outputId": "77ccc09f-ee18-4b47-d479-812f8f6c103b"
      },
      "source": [
        "x = tf.keras.layers.Input(shape=(28, 28, 1))\n",
        "encoder = tf.keras.models.Sequential([\n",
        "   tf.keras.layers.Conv2D(32, 3, activation= 'relu', padding='same'),\n",
        "   tf.keras.layers.MaxPool2D((2, 2), padding='same'),\n",
        "   tf.keras.layers.Conv2D(32, 3, activation='relu', padding='same'),\n",
        "   tf.keras.layers.MaxPool2D((2, 2), padding='same')\n",
        "])\n",
        "\n",
        "#encoder.summary()\n",
        "\n",
        "decoder = tf.keras.models.Sequential([\n",
        "    tf.keras.layers.Conv2DTranspose(32, 3, activation='relu', strides=2, padding='same'),\n",
        "    tf.keras.layers.Conv2DTranspose(32, 3, activation='relu', strides=2,  padding='same'),\n",
        "    tf.keras.layers.Conv2D(1, (3, 3), activation='sigmoid', padding='same')\n",
        "])\n",
        "\n",
        " #decoder.summary()\n",
        "l = encoder(x)\n",
        "y = decoder(l)\n",
        "\n",
        "model = tf.keras.Model(inputs = x, outputs = y)\n",
        "model.summary()\n",
        "model.compile(optimizer = \"adam\", loss = \"binary_crossentropy\")"
      ],
      "execution_count": 128,
      "outputs": [
        {
          "output_type": "stream",
          "text": [
            "Model: \"model_22\"\n",
            "_________________________________________________________________\n",
            "Layer (type)                 Output Shape              Param #   \n",
            "=================================================================\n",
            "input_23 (InputLayer)        [(None, 28, 28, 1)]       0         \n",
            "_________________________________________________________________\n",
            "sequential_44 (Sequential)   (None, 7, 7, 32)          9568      \n",
            "_________________________________________________________________\n",
            "sequential_45 (Sequential)   (None, 28, 28, 1)         18785     \n",
            "=================================================================\n",
            "Total params: 28,353\n",
            "Trainable params: 28,353\n",
            "Non-trainable params: 0\n",
            "_________________________________________________________________\n"
          ],
          "name": "stdout"
        }
      ]
    },
    {
      "cell_type": "code",
      "metadata": {
        "colab": {
          "base_uri": "https://localhost:8080/"
        },
        "id": "HOCN7Z7t-zP7",
        "outputId": "976fc231-1850-47e1-e7e1-5b307e0ae3bb"
      },
      "source": [
        "history = model.fit(noisy_train, x_train, batch_size=128, epochs=50, callbacks=[callbacks], shuffle=True, validation_data=(x_test, x_test))"
      ],
      "execution_count": 131,
      "outputs": [
        {
          "output_type": "stream",
          "text": [
            "Epoch 1/50\n",
            "469/469 [==============================] - 4s 9ms/step - loss: 0.1008 - val_loss: 0.0743\n",
            "Epoch 2/50\n",
            "469/469 [==============================] - 4s 8ms/step - loss: 0.0933 - val_loss: 0.0727\n",
            "Epoch 3/50\n",
            "469/469 [==============================] - 4s 8ms/step - loss: 0.0919 - val_loss: 0.0723\n",
            "Epoch 4/50\n",
            "469/469 [==============================] - 4s 8ms/step - loss: 0.0909 - val_loss: 0.0718\n",
            "Epoch 5/50\n",
            "469/469 [==============================] - 4s 8ms/step - loss: 0.0901 - val_loss: 0.0717\n",
            "Epoch 6/50\n",
            "469/469 [==============================] - 4s 8ms/step - loss: 0.0896 - val_loss: 0.0716\n",
            "Epoch 7/50\n",
            "469/469 [==============================] - 4s 8ms/step - loss: 0.0891 - val_loss: 0.0716\n",
            "Epoch 8/50\n",
            "469/469 [==============================] - 4s 8ms/step - loss: 0.0887 - val_loss: 0.0716\n",
            "Epoch 9/50\n",
            "469/469 [==============================] - 4s 8ms/step - loss: 0.0883 - val_loss: 0.0720\n",
            "Epoch 10/50\n",
            "469/469 [==============================] - 4s 8ms/step - loss: 0.0880 - val_loss: 0.0713\n",
            "Epoch 11/50\n",
            "469/469 [==============================] - 4s 8ms/step - loss: 0.0877 - val_loss: 0.0713\n",
            "Epoch 12/50\n",
            "469/469 [==============================] - 4s 8ms/step - loss: 0.0874 - val_loss: 0.0712\n",
            "Epoch 13/50\n",
            "469/469 [==============================] - 4s 8ms/step - loss: 0.0872 - val_loss: 0.0711\n",
            "Epoch 14/50\n",
            "469/469 [==============================] - 4s 8ms/step - loss: 0.0870 - val_loss: 0.0709\n",
            "Epoch 15/50\n",
            "469/469 [==============================] - 4s 8ms/step - loss: 0.0868 - val_loss: 0.0709\n",
            "Epoch 16/50\n",
            "469/469 [==============================] - 4s 8ms/step - loss: 0.0866 - val_loss: 0.0708\n",
            "Epoch 17/50\n",
            "469/469 [==============================] - 4s 8ms/step - loss: 0.0865 - val_loss: 0.0705\n",
            "Epoch 18/50\n",
            "469/469 [==============================] - 4s 8ms/step - loss: 0.0863 - val_loss: 0.0703\n",
            "Epoch 19/50\n",
            "469/469 [==============================] - 4s 8ms/step - loss: 0.0862 - val_loss: 0.0705\n",
            "Epoch 20/50\n",
            "469/469 [==============================] - 4s 8ms/step - loss: 0.0861 - val_loss: 0.0706\n",
            "Epoch 21/50\n",
            "469/469 [==============================] - 4s 8ms/step - loss: 0.0860 - val_loss: 0.0704\n",
            "Epoch 22/50\n",
            "469/469 [==============================] - 4s 8ms/step - loss: 0.0859 - val_loss: 0.0702\n",
            "Epoch 23/50\n",
            "469/469 [==============================] - 4s 8ms/step - loss: 0.0858 - val_loss: 0.0702\n",
            "Epoch 24/50\n",
            "469/469 [==============================] - 4s 8ms/step - loss: 0.0857 - val_loss: 0.0703\n",
            "Epoch 25/50\n",
            "469/469 [==============================] - 4s 8ms/step - loss: 0.0856 - val_loss: 0.0703\n",
            "Epoch 26/50\n",
            "469/469 [==============================] - 4s 8ms/step - loss: 0.0855 - val_loss: 0.0703\n",
            "Epoch 27/50\n",
            "469/469 [==============================] - 4s 8ms/step - loss: 0.0854 - val_loss: 0.0701\n",
            "Epoch 28/50\n",
            "469/469 [==============================] - 4s 8ms/step - loss: 0.0854 - val_loss: 0.0703\n",
            "Epoch 29/50\n",
            "469/469 [==============================] - 4s 8ms/step - loss: 0.0853 - val_loss: 0.0703\n",
            "Epoch 30/50\n",
            "469/469 [==============================] - 4s 8ms/step - loss: 0.0852 - val_loss: 0.0701\n",
            "Epoch 31/50\n",
            "469/469 [==============================] - 4s 8ms/step - loss: 0.0851 - val_loss: 0.0703\n",
            "Epoch 32/50\n",
            "469/469 [==============================] - 4s 8ms/step - loss: 0.0851 - val_loss: 0.0702\n",
            "Epoch 33/50\n",
            "469/469 [==============================] - 4s 8ms/step - loss: 0.0850 - val_loss: 0.0702\n",
            "Epoch 34/50\n",
            "469/469 [==============================] - 4s 8ms/step - loss: 0.0850 - val_loss: 0.0700\n",
            "Epoch 35/50\n",
            "469/469 [==============================] - 4s 8ms/step - loss: 0.0850 - val_loss: 0.0703\n",
            "Epoch 36/50\n",
            "469/469 [==============================] - 4s 8ms/step - loss: 0.0849 - val_loss: 0.0701\n",
            "Epoch 37/50\n",
            "469/469 [==============================] - 4s 8ms/step - loss: 0.0849 - val_loss: 0.0701\n",
            "Epoch 38/50\n",
            "469/469 [==============================] - 4s 8ms/step - loss: 0.0848 - val_loss: 0.0702\n",
            "Epoch 39/50\n",
            "469/469 [==============================] - 4s 8ms/step - loss: 0.0848 - val_loss: 0.0701\n",
            "Epoch 40/50\n",
            "469/469 [==============================] - 4s 8ms/step - loss: 0.0847 - val_loss: 0.0700\n",
            "Epoch 41/50\n",
            "469/469 [==============================] - 4s 8ms/step - loss: 0.0847 - val_loss: 0.0701\n",
            "Epoch 42/50\n",
            "469/469 [==============================] - 4s 8ms/step - loss: 0.0847 - val_loss: 0.0700\n",
            "Epoch 43/50\n",
            "469/469 [==============================] - 4s 8ms/step - loss: 0.0846 - val_loss: 0.0700\n",
            "Epoch 44/50\n",
            "469/469 [==============================] - 4s 8ms/step - loss: 0.0846 - val_loss: 0.0700\n",
            "Epoch 45/50\n",
            "469/469 [==============================] - 4s 8ms/step - loss: 0.0846 - val_loss: 0.0702\n",
            "Epoch 46/50\n",
            "469/469 [==============================] - 4s 8ms/step - loss: 0.0846 - val_loss: 0.0699\n",
            "Epoch 47/50\n",
            "469/469 [==============================] - 4s 8ms/step - loss: 0.0846 - val_loss: 0.0702\n",
            "Epoch 48/50\n",
            "469/469 [==============================] - 4s 8ms/step - loss: 0.0845 - val_loss: 0.0699\n",
            "Epoch 49/50\n",
            "469/469 [==============================] - 4s 8ms/step - loss: 0.0845 - val_loss: 0.0703\n",
            "Epoch 50/50\n",
            "469/469 [==============================] - 4s 8ms/step - loss: 0.0844 - val_loss: 0.0698\n"
          ],
          "name": "stdout"
        }
      ]
    },
    {
      "cell_type": "code",
      "metadata": {
        "id": "LJ2iG4iEEPSL",
        "colab": {
          "base_uri": "https://localhost:8080/",
          "height": 265
        },
        "outputId": "7ee5a339-5798-4b06-e99f-335dbbcae77b"
      },
      "source": [
        "#visualizing training process\n",
        "plt.plot(history.history['loss'])\n",
        "plt.plot(history.history['val_loss'])\n",
        "plt.show()"
      ],
      "execution_count": 132,
      "outputs": [
        {
          "output_type": "display_data",
          "data": {
            "image/png": "[encoded data removed]",
            "text/plain": [
              "<Figure size 432x288 with 1 Axes>"
            ]
          },
          "metadata": {
            "tags": [],
            "needs_background": "light"
          }
        }
      ]
    },
    {
      "cell_type": "code",
      "metadata": {
        "id": "AoYmXENbLkuC"
      },
      "source": [
        "dec_img = model.predict(x_test)\n",
        "ndec_img = model.predict(noisy_test)"
      ],
      "execution_count": 133,
      "outputs": []
    },
    {
      "cell_type": "code",
      "metadata": {
        "colab": {
          "base_uri": "https://localhost:8080/",
          "height": 361
        },
        "id": "43iPiCAmWkaU",
        "outputId": "bc198050-f835-4d8b-9045-b0afb212a09b"
      },
      "source": [
        "n=10\n",
        "plt.figure(figsize=(28,6))\n",
        "for i in range(n):\n",
        "  ax = plt.subplot(2, n, i+1)\n",
        "  plt.imshow(noisy_test[i].reshape(28, 28))\n",
        "  plt.title(\"Orignal#\"+str(i+1))\n",
        "  plt.gray()\n",
        "  ax.get_xaxis().set_visible(False)\n",
        "  ax.get_yaxis().set_visible(False)\n",
        "\n",
        "  ax = plt.subplot(2, n, i+1+n)\n",
        "  plt.imshow(ndec_img[i].reshape(28, 28))\n",
        "  plt.title(\"Reconstructed# \"+str(i+1))\n",
        "  plt.gray()\n",
        "  ax.get_xaxis().set_visible(False)\n",
        "  ax.get_yaxis().set_visible(False)\n",
        "\n",
        "\n",
        "plt.show()"
      ],
      "execution_count": 134,
      "outputs": [
        {
          "output_type": "display_data",
          "data": {
            "image/png": "[encoded data removed]",
            "text/plain": [
              "<Figure size 2016x432 with 20 Axes>"
            ]
          },
          "metadata": {
            "tags": [],
            "needs_background": "light"
          }
        }
      ]
    },
    {
      "cell_type": "code",
      "metadata": {
        "id": "qutpsUdVkT2k"
      },
      "source": [
        ""
      ],
      "execution_count": null,
      "outputs": []
    }
  ]
}