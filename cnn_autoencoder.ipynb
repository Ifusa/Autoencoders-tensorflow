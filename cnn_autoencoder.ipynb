{
  "nbformat": 4,
  "nbformat_minor": 0,
  "metadata": {
    "accelerator": "GPU",
    "colab": {
      "name": "cnn_autoencoder.ipynb",
      "provenance": [],
      "authorship_tag": "ABX9TyN3NXRW3RDuYAbPKGnBXJE0",
      "include_colab_link": true
    },
    "kernelspec": {
      "display_name": "Python 3",
      "name": "python3"
    },
    "language_info": {
      "name": "python"
    }
  },
  "cells": [
    {
      "cell_type": "markdown",
      "metadata": {
        "id": "view-in-github",
        "colab_type": "text"
      },
      "source": [
        "<a href=\"https://colab.research.google.com/github/Ifusa/Autoencoders-tensorflow/blob/main/cnn_autoencoder.ipynb\" target=\"_parent\"><img src=\"https://colab.research.google.com/assets/colab-badge.svg\" alt=\"Open In Colab\"/></a>"
      ]
    },
    {
      "cell_type": "code",
      "metadata": {
        "id": "qNB2NrVWeMBI"
      },
      "source": [
        "import tensorflow as tf\n",
        "from matplotlib import pyplot as plt\n",
        "from tensorflow.keras.datasets import mnist"
      ],
      "execution_count": 98,
      "outputs": []
    },
    {
      "cell_type": "code",
      "metadata": {
        "id": "uER4AS8peZJv"
      },
      "source": [
        "(x_train,_),(x_test, _) = mnist.load_data()"
      ],
      "execution_count": 99,
      "outputs": []
    },
    {
      "cell_type": "code",
      "metadata": {
        "colab": {
          "base_uri": "https://localhost:8080/"
        },
        "id": "ey1tr7KNe5na",
        "outputId": "1fed1d56-7680-45bb-d0ef-a946807848c7"
      },
      "source": [
        "print(x_train.shape)\n",
        "print(x_test.shape)"
      ],
      "execution_count": 100,
      "outputs": [
        {
          "output_type": "stream",
          "text": [
            "(60000, 28, 28)\n",
            "(10000, 28, 28)\n"
          ],
          "name": "stdout"
        }
      ]
    },
    {
      "cell_type": "code",
      "metadata": {
        "id": "WbvglJCAkbb-"
      },
      "source": [
        "#defining callback class. Will stop training when loss becomes less or equal to 0.0045\n",
        "class mycallback(tf.keras.callbacks.Callback):\n",
        "  def on_epoch_end(self, epoch, logs={}):\n",
        "    if (logs.get('loss') <= 0.07):\n",
        "      print(\"\\nReached desired loss, Terminating training....\\n\")\n",
        "      self.model.stop_training = True\n",
        "\n",
        "callbacks = mycallback()"
      ],
      "execution_count": 113,
      "outputs": []
    },
    {
      "cell_type": "code",
      "metadata": {
        "id": "AtLLm7qofkHT"
      },
      "source": [
        "plt.imshow(x_train[0], cmap='gray')\n",
        "plt.show()"
      ],
      "execution_count": null,
      "outputs": []
    },
    {
      "cell_type": "code",
      "metadata": {
        "colab": {
          "base_uri": "https://localhost:8080/"
        },
        "id": "_h7lVekkjCDK",
        "outputId": "7761dd40-dfb0-4c54-e1c9-d4e91f07267e"
      },
      "source": [
        "x_train = x_train.reshape(x_train.shape[0], 28, 28, 1)\n",
        "x_test = x_test.reshape(x_test.shape[0], 28, 28, 1)\n",
        "x_train = x_train/255.0\n",
        "x_test = x_test/255.0\n",
        "print(x_train.shape)\n",
        "print(x_test.shape)"
      ],
      "execution_count": 103,
      "outputs": [
        {
          "output_type": "stream",
          "text": [
            "(60000, 28, 28, 1)\n",
            "(10000, 28, 28, 1)\n"
          ],
          "name": "stdout"
        }
      ]
    },
    {
      "cell_type": "code",
      "metadata": {
        "colab": {
          "base_uri": "https://localhost:8080/"
        },
        "id": "hjie5enBjTBE",
        "outputId": "567f8585-7caa-4c31-bbec-0d5e4268018c"
      },
      "source": [
        "x = tf.keras.layers.Input(shape=(28, 28, 1))\n",
        "encoder = tf.keras.models.Sequential([\n",
        "   tf.keras.layers.Conv2D(32, 3, activation= 'relu', padding='same'),\n",
        "   tf.keras.layers.MaxPool2D((2, 2), padding='same'),\n",
        "   tf.keras.layers.Conv2D(32, 3, activation='relu', padding='same'),\n",
        "   tf.keras.layers.MaxPool2D((2, 2), padding='same')\n",
        "])\n",
        "\n",
        "#encoder.summary()\n",
        "\n",
        "decoder = tf.keras.models.Sequential([\n",
        "    tf.keras.layers.Conv2DTranspose(32, 3, activation='relu', strides=2, padding='same'),\n",
        "    tf.keras.layers.Conv2DTranspose(32, 3, activation='relu', strides=2,  padding='same'),\n",
        "    tf.keras.layers.Conv2D(1, (3, 3), activation='sigmoid', padding='same')\n",
        "])\n",
        "\n",
        " #decoder.summary()\n",
        "l = encoder(x)\n",
        "y = decoder(l)\n",
        "\n",
        "model = tf.keras.Model(inputs = x, outputs = y)\n",
        "model.summary()\n",
        "model.compile(optimizer = \"adam\", loss = \"binary_crossentropy\")"
      ],
      "execution_count": 115,
      "outputs": [
        {
          "output_type": "stream",
          "text": [
            "Model: \"model_21\"\n",
            "_________________________________________________________________\n",
            "Layer (type)                 Output Shape              Param #   \n",
            "=================================================================\n",
            "input_22 (InputLayer)        [(None, 28, 28, 1)]       0         \n",
            "_________________________________________________________________\n",
            "sequential_42 (Sequential)   (None, 7, 7, 32)          9568      \n",
            "_________________________________________________________________\n",
            "sequential_43 (Sequential)   (None, 28, 28, 1)         18785     \n",
            "=================================================================\n",
            "Total params: 28,353\n",
            "Trainable params: 28,353\n",
            "Non-trainable params: 0\n",
            "_________________________________________________________________\n"
          ],
          "name": "stdout"
        }
      ]
    },
    {
      "cell_type": "code",
      "metadata": {
        "colab": {
          "base_uri": "https://localhost:8080/"
        },
        "id": "HOCN7Z7t-zP7",
        "outputId": "97b7ea29-98ae-4eaa-e970-d9609cbef759"
      },
      "source": [
        "history = model.fit(x_train, x_train, batch_size=128, epochs=10, callbacks=[callbacks], shuffle=True, validation_data=(x_test, x_test))"
      ],
      "execution_count": 116,
      "outputs": [
        {
          "output_type": "stream",
          "text": [
            "Epoch 1/10\n",
            "469/469 [==============================] - 4s 9ms/step - loss: 0.1372 - val_loss: 0.0734\n",
            "Epoch 2/10\n",
            "469/469 [==============================] - 4s 8ms/step - loss: 0.0718 - val_loss: 0.0696\n",
            "Epoch 3/10\n",
            "469/469 [==============================] - 4s 8ms/step - loss: 0.0693 - val_loss: 0.0681\n",
            "\n",
            "Reached desired loss, Terminating training....\n",
            "\n"
          ],
          "name": "stdout"
        }
      ]
    },
    {
      "cell_type": "code",
      "metadata": {
        "id": "LJ2iG4iEEPSL",
        "colab": {
          "base_uri": "https://localhost:8080/",
          "height": 267
        },
        "outputId": "89a53756-9f07-4a20-84e8-71197e9ec0e7"
      },
      "source": [
        "#visualizing training process\n",
        "plt.plot(history.history['loss'])\n",
        "plt.plot(history.history['val_loss'])\n",
        "plt.show()"
      ],
      "execution_count": 117,
      "outputs": [
        {
          "output_type": "display_data",
          "data": {
            "image/png": "[encoded data removed]",
            "text/plain": [
              "<Figure size 432x288 with 1 Axes>"
            ]
          },
          "metadata": {
            "tags": [],
            "needs_background": "light"
          }
        }
      ]
    },
    {
      "cell_type": "code",
      "metadata": {
        "id": "AoYmXENbLkuC"
      },
      "source": [
        "dec_img = model.predict(x_test)"
      ],
      "execution_count": 118,
      "outputs": []
    },
    {
      "cell_type": "code",
      "metadata": {
        "colab": {
          "base_uri": "https://localhost:8080/",
          "height": 361
        },
        "id": "43iPiCAmWkaU",
        "outputId": "27e34baf-efde-49a0-b01c-8dcd47b347a8"
      },
      "source": [
        "n=10\n",
        "plt.figure(figsize=(28,6))\n",
        "for i in range(n):\n",
        "  ax = plt.subplot(2, n, i+1)\n",
        "  plt.imshow(x_test[i].reshape(28, 28))\n",
        "  plt.title(\"Orignal#\"+str(i+1))\n",
        "  plt.gray()\n",
        "  ax.get_xaxis().set_visible(False)\n",
        "  ax.get_yaxis().set_visible(False)\n",
        "\n",
        "  ax = plt.subplot(2, n, i+1+n)\n",
        "  plt.imshow(dec_img[i].reshape(28, 28))\n",
        "  plt.title(\"Reconstructed# \"+str(i+1))\n",
        "  plt.gray()\n",
        "  ax.get_xaxis().set_visible(False)\n",
        "  ax.get_yaxis().set_visible(False)\n",
        "\n",
        "\n",
        "plt.show()"
      ],
      "execution_count": 120,
      "outputs": [
        {
          "output_type": "display_data",
          "data": {
            "image/png": "[encoded data removed]",
            "text/plain": [
              "<Figure size 2016x432 with 20 Axes>"
            ]
          },
          "metadata": {
            "tags": [],
            "needs_background": "light"
          }
        }
      ]
    },
    {
      "cell_type": "code",
      "metadata": {
        "id": "qutpsUdVkT2k"
      },
      "source": [
        ""
      ],
      "execution_count": null,
      "outputs": []
    }
  ]
}