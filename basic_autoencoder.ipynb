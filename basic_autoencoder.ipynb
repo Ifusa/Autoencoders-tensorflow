{
  "nbformat": 4,
  "nbformat_minor": 0,
  "metadata": {
    "colab": {
      "name": "basic_autoencoder.ipynb",
      "provenance": [],
      "authorship_tag": "ABX9TyPJs1ti5yHHPWPbCOixVHe9",
      "include_colab_link": true
    },
    "kernelspec": {
      "name": "python3",
      "display_name": "Python 3"
    },
    "language_info": {
      "name": "python"
    }
  },
  "cells": [
    {
      "cell_type": "markdown",
      "metadata": {
        "id": "view-in-github",
        "colab_type": "text"
      },
      "source": [
        "<a href=\"https://colab.research.google.com/github/Ifusa/Autoencoders-tensorflow/blob/main/basic_autoencoder.ipynb\" target=\"_parent\"><img src=\"https://colab.research.google.com/assets/colab-badge.svg\" alt=\"Open In Colab\"/></a>"
      ]
    },
    {
      "cell_type": "code",
      "metadata": {
        "id": "t5VeV8_650AJ"
      },
      "source": [
        "#importing libraries\n",
        "import tensorflow as tf\n",
        "from matplotlib import pyplot as plt"
      ],
      "execution_count": 38,
      "outputs": []
    },
    {
      "cell_type": "code",
      "metadata": {
        "id": "b_gg26qQ58HK"
      },
      "source": [
        "#loading mnist data\n",
        "mnist = tf.keras.datasets.mnist\n",
        "(training_x,_), (testing_x,_) = mnist.load_data()"
      ],
      "execution_count": 39,
      "outputs": []
    },
    {
      "cell_type": "code",
      "metadata": {
        "colab": {
          "base_uri": "https://localhost:8080/"
        },
        "id": "eLkNAoFaIliZ",
        "outputId": "d188b23a-3d13-4b26-c641-303702bfc289"
      },
      "source": [
        "#checking the shape of data\n",
        "print(training_x.shape)\n",
        "print(testing_x.shape)"
      ],
      "execution_count": 40,
      "outputs": [
        {
          "output_type": "stream",
          "text": [
            "(60000, 28, 28)\n",
            "(10000, 28, 28)\n"
          ],
          "name": "stdout"
        }
      ]
    },
    {
      "cell_type": "code",
      "metadata": {
        "id": "Rq-m764J9YoU"
      },
      "source": [
        "#defining callback class. Will stop training when loss becomes less or equal to 0.0045\n",
        "class mycallback(tf.keras.callbacks.Callback):\n",
        "  def on_epoch_end(self, epoch, logs={}):\n",
        "    if (logs.get('loss') <= 0.0045):\n",
        "      print(\"\\nReached desired loss, Terminating training....\\n\")\n",
        "      self.model.stop_training = True"
      ],
      "execution_count": 78,
      "outputs": []
    },
    {
      "cell_type": "code",
      "metadata": {
        "id": "0BXVgFuF-dJ-"
      },
      "source": [
        "#creating instance\n",
        "callbacks = mycallback()"
      ],
      "execution_count": 71,
      "outputs": []
    },
    {
      "cell_type": "code",
      "metadata": {
        "colab": {
          "base_uri": "https://localhost:8080/",
          "height": 265
        },
        "id": "XuV_kZkeAj5C",
        "outputId": "43a75cdf-5885-47a8-ea23-5f8f15b7b426"
      },
      "source": [
        "#visualising data image\n",
        "plt.imshow(training_x[0], cmap='gray')\n",
        "plt.show()"
      ],
      "execution_count": 43,
      "outputs": [
        {
          "output_type": "display_data",
          "data": {
            "image/png": "[encoded data removed]",
            "text/plain": [
              "<Figure size 432x288 with 1 Axes>"
            ]
          },
          "metadata": {
            "tags": [],
            "needs_background": "light"
          }
        }
      ]
    },
    {
      "cell_type": "code",
      "metadata": {
        "id": "HxVMcfOn6Tpv"
      },
      "source": [
        "#normalizing data\n",
        "training_x = training_x/255.0\n",
        "testing_x = testing_x/255.0"
      ],
      "execution_count": 44,
      "outputs": []
    },
    {
      "cell_type": "code",
      "metadata": {
        "id": "bZ97vUiUBPUA",
        "colab": {
          "base_uri": "https://localhost:8080/",
          "height": 265
        },
        "outputId": "c113ffb2-773d-4276-80fa-9b3ce76817d6"
      },
      "source": [
        "#visualizing data again after normalization\n",
        "plt.imshow(training_x[0], cmap='gray')\n",
        "plt.show()"
      ],
      "execution_count": 45,
      "outputs": [
        {
          "output_type": "display_data",
          "data": {
            "image/png": "[encoded data removed]",
            "text/plain": [
              "<Figure size 432x288 with 1 Axes>"
            ]
          },
          "metadata": {
            "tags": [],
            "needs_background": "light"
          }
        }
      ]
    },
    {
      "cell_type": "code",
      "metadata": {
        "id": "KWRxIJK27zZ0"
      },
      "source": [
        "#defining architecture\n",
        "latent_size = 32\n",
        "encoder = tf.keras.models.Sequential([\n",
        "  tf.keras.layers.Flatten(),\n",
        "  tf.keras.layers.Dense(latent_size, activation=tf.nn.relu6)\n",
        "])\n",
        "decoder = tf.keras.models.Sequential([         \n",
        "  tf.keras.layers.Dense(256, activation=tf.nn.relu6),                       \n",
        "  tf.keras.layers.Dense(784, activation='sigmoid'),\n",
        "  tf.keras.layers.Reshape((28, 28))\n",
        "])\n",
        "\n",
        "img = tf.keras.layers.Input(shape = (28, 28))\n",
        "l_vector = encoder(img)\n",
        "output = decoder(l_vector)\n",
        "\n",
        "model = tf.keras.Model(inputs= img, outputs= output)\n",
        "#compiling the model\n",
        "model.compile(optimizer='adam', loss=tf.losses.MeanSquaredError())"
      ],
      "execution_count": 133,
      "outputs": []
    },
    {
      "cell_type": "code",
      "metadata": {
        "colab": {
          "base_uri": "https://localhost:8080/"
        },
        "id": "PQZILv5u8Z6O",
        "outputId": "d4723b3a-bc03-44aa-ec1f-a347f73bd617"
      },
      "source": [
        "#training the model\n",
        "history = model.fit(training_x, training_x, epochs=10, shuffle= True, callbacks=[callbacks], validation_data=(testing_x, testing_x))"
      ],
      "execution_count": 134,
      "outputs": [
        {
          "output_type": "stream",
          "text": [
            "Epoch 1/10\n",
            "1875/1875 [==============================] - 6s 3ms/step - loss: 0.0226 - val_loss: 0.0115\n",
            "Epoch 2/10\n",
            "1875/1875 [==============================] - 6s 3ms/step - loss: 0.0109 - val_loss: 0.0099\n",
            "Epoch 3/10\n",
            "1875/1875 [==============================] - 6s 3ms/step - loss: 0.0095 - val_loss: 0.0087\n",
            "Epoch 4/10\n",
            "1875/1875 [==============================] - 6s 3ms/step - loss: 0.0086 - val_loss: 0.0081\n",
            "Epoch 5/10\n",
            "1875/1875 [==============================] - 6s 3ms/step - loss: 0.0080 - val_loss: 0.0077\n",
            "Epoch 6/10\n",
            "1875/1875 [==============================] - 7s 3ms/step - loss: 0.0076 - val_loss: 0.0073\n",
            "Epoch 7/10\n",
            "1875/1875 [==============================] - 6s 3ms/step - loss: 0.0073 - val_loss: 0.0071\n",
            "Epoch 8/10\n",
            "1875/1875 [==============================] - 6s 3ms/step - loss: 0.0071 - val_loss: 0.0069\n",
            "Epoch 9/10\n",
            "1875/1875 [==============================] - 6s 3ms/step - loss: 0.0069 - val_loss: 0.0068\n",
            "Epoch 10/10\n",
            "1875/1875 [==============================] - 6s 3ms/step - loss: 0.0068 - val_loss: 0.0067\n"
          ],
          "name": "stdout"
        }
      ]
    },
    {
      "cell_type": "code",
      "metadata": {
        "colab": {
          "base_uri": "https://localhost:8080/",
          "height": 265
        },
        "id": "9PSz_2sjv_9-",
        "outputId": "8909bb77-faaf-462e-f1c9-a3b8b5d3ed65"
      },
      "source": [
        "#visualizing training process\n",
        "#print(history.history.keys())\n",
        "plt.plot(history.history['loss'])\n",
        "plt.plot(history.history['val_loss'])\n",
        "plt.show()"
      ],
      "execution_count": 135,
      "outputs": [
        {
          "output_type": "display_data",
          "data": {
            "image/png": "[encoded data removed]",
            "text/plain": [
              "<Figure size 432x288 with 1 Axes>"
            ]
          },
          "metadata": {
            "tags": [],
            "needs_background": "light"
          }
        }
      ]
    },
    {
      "cell_type": "markdown",
      "metadata": {
        "id": "SuRXy8ss0bXK"
      },
      "source": [
        "# Testing images on our trained model and plotting them"
      ]
    },
    {
      "cell_type": "code",
      "metadata": {
        "id": "Flj9zTgFgdM1"
      },
      "source": [
        "\n",
        "enc_img = encoder(testing_x).numpy()\n",
        "dec_img = decoder(enc_img).numpy()"
      ],
      "execution_count": 136,
      "outputs": []
    },
    {
      "cell_type": "code",
      "metadata": {
        "colab": {
          "base_uri": "https://localhost:8080/",
          "height": 345
        },
        "id": "ktskoNBg87O1",
        "outputId": "08852f00-3f64-46ce-dc9f-d3edb365bcea"
      },
      "source": [
        "n=10\n",
        "plt.figure(figsize=(28,6))\n",
        "for i in range(n):\n",
        "  ax = plt.subplot(2, n, i+1)\n",
        "  plt.imshow(testing_x[i])\n",
        "  plt.title(\"Orignal#\"+str(i+1))\n",
        "  plt.gray()\n",
        "  ax.get_xaxis().set_visible(False)\n",
        "  ax.get_yaxis().set_visible(False)\n",
        "\n",
        "  ax = plt.subplot(2, n, i+1+n)\n",
        "  plt.imshow(dec_img[i])\n",
        "  plt.title(\"Reconstructed# \"+str(i+1))\n",
        "  plt.gray()\n",
        "  ax.get_xaxis().set_visible(False)\n",
        "  ax.get_yaxis().set_visible(False)\n",
        "\n",
        "\n",
        "plt.show()\n",
        "\n",
        "  "
      ],
      "execution_count": 137,
      "outputs": [
        {
          "output_type": "display_data",
          "data": {
            "image/png": "[encoded data removed]",
            "text/plain": [
              "<Figure size 2016x432 with 20 Axes>"
            ]
          },
          "metadata": {
            "tags": [],
            "needs_background": "light"
          }
        }
      ]
    },
    {
      "cell_type": "code",
      "metadata": {
        "id": "WixZLOqQ-vJX"
      },
      "source": [
        ""
      ],
      "execution_count": null,
      "outputs": []
    }
  ]
}